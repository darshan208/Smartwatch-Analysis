{
 "cells": [
  {
   "cell_type": "markdown",
   "id": "2487a003",
   "metadata": {},
   "source": [
    "# Smartwatch Data Analysis and Price Prediction"
   ]
  },
  {
   "cell_type": "code",
   "execution_count": 48,
   "id": "57c1b2c5",
   "metadata": {},
   "outputs": [],
   "source": [
    "import pandas as pd\n",
    "import numpy as np\n",
    "import matplotlib.pyplot as plt\n",
    "import seaborn as sns"
   ]
  },
  {
   "cell_type": "code",
   "execution_count": 49,
   "id": "41fddb43",
   "metadata": {},
   "outputs": [],
   "source": [
    "import warnings\n",
    "warnings.filterwarnings(\"ignore\")"
   ]
  },
  {
   "cell_type": "markdown",
   "id": "0be446ce",
   "metadata": {},
   "source": [
    "# Data Exploration"
   ]
  },
  {
   "cell_type": "code",
   "execution_count": 50,
   "id": "c07cb8a8",
   "metadata": {},
   "outputs": [],
   "source": [
    "data = pd.read_csv(r\"C:\\Users\\hp\\Downloads\\Smart watch prices.csv\")"
   ]
  },
  {
   "cell_type": "code",
   "execution_count": 51,
   "id": "cc234471",
   "metadata": {},
   "outputs": [
    {
     "data": {
      "text/html": [
       "<div>\n",
       "<style scoped>\n",
       "    .dataframe tbody tr th:only-of-type {\n",
       "        vertical-align: middle;\n",
       "    }\n",
       "\n",
       "    .dataframe tbody tr th {\n",
       "        vertical-align: top;\n",
       "    }\n",
       "\n",
       "    .dataframe thead th {\n",
       "        text-align: right;\n",
       "    }\n",
       "</style>\n",
       "<table border=\"1\" class=\"dataframe\">\n",
       "  <thead>\n",
       "    <tr style=\"text-align: right;\">\n",
       "      <th></th>\n",
       "      <th>Brand</th>\n",
       "      <th>Model</th>\n",
       "      <th>Operating System</th>\n",
       "      <th>Connectivity</th>\n",
       "      <th>Display Type</th>\n",
       "      <th>Display Size (inches)</th>\n",
       "      <th>Resolution</th>\n",
       "      <th>Water Resistance (meters)</th>\n",
       "      <th>Battery Life (days)</th>\n",
       "      <th>Heart Rate Monitor</th>\n",
       "      <th>GPS</th>\n",
       "      <th>NFC</th>\n",
       "      <th>Price (USD)</th>\n",
       "    </tr>\n",
       "  </thead>\n",
       "  <tbody>\n",
       "    <tr>\n",
       "      <th>0</th>\n",
       "      <td>Apple</td>\n",
       "      <td>Watch Series 7</td>\n",
       "      <td>watchOS</td>\n",
       "      <td>Bluetooth, Wi-Fi, Cellular</td>\n",
       "      <td>Retina</td>\n",
       "      <td>1.90</td>\n",
       "      <td>396 x 484</td>\n",
       "      <td>50</td>\n",
       "      <td>18</td>\n",
       "      <td>Yes</td>\n",
       "      <td>Yes</td>\n",
       "      <td>Yes</td>\n",
       "      <td>$399</td>\n",
       "    </tr>\n",
       "    <tr>\n",
       "      <th>1</th>\n",
       "      <td>Samsung</td>\n",
       "      <td>Galaxy Watch 4</td>\n",
       "      <td>Wear OS</td>\n",
       "      <td>Bluetooth, Wi-Fi, Cellular</td>\n",
       "      <td>AMOLED</td>\n",
       "      <td>1.40</td>\n",
       "      <td>450 x 450</td>\n",
       "      <td>50</td>\n",
       "      <td>40</td>\n",
       "      <td>Yes</td>\n",
       "      <td>Yes</td>\n",
       "      <td>Yes</td>\n",
       "      <td>$249</td>\n",
       "    </tr>\n",
       "    <tr>\n",
       "      <th>2</th>\n",
       "      <td>Garmin</td>\n",
       "      <td>Venu 2</td>\n",
       "      <td>Garmin OS</td>\n",
       "      <td>Bluetooth, Wi-Fi</td>\n",
       "      <td>AMOLED</td>\n",
       "      <td>1.30</td>\n",
       "      <td>416 x 416</td>\n",
       "      <td>50</td>\n",
       "      <td>11</td>\n",
       "      <td>Yes</td>\n",
       "      <td>Yes</td>\n",
       "      <td>No</td>\n",
       "      <td>$399</td>\n",
       "    </tr>\n",
       "    <tr>\n",
       "      <th>3</th>\n",
       "      <td>Fitbit</td>\n",
       "      <td>Versa 3</td>\n",
       "      <td>Fitbit OS</td>\n",
       "      <td>Bluetooth, Wi-Fi</td>\n",
       "      <td>AMOLED</td>\n",
       "      <td>1.58</td>\n",
       "      <td>336 x 336</td>\n",
       "      <td>50</td>\n",
       "      <td>6</td>\n",
       "      <td>Yes</td>\n",
       "      <td>Yes</td>\n",
       "      <td>Yes</td>\n",
       "      <td>$229</td>\n",
       "    </tr>\n",
       "    <tr>\n",
       "      <th>4</th>\n",
       "      <td>Fossil</td>\n",
       "      <td>Gen 6</td>\n",
       "      <td>Wear OS</td>\n",
       "      <td>Bluetooth, Wi-Fi</td>\n",
       "      <td>AMOLED</td>\n",
       "      <td>1.28</td>\n",
       "      <td>416 x 416</td>\n",
       "      <td>30</td>\n",
       "      <td>24</td>\n",
       "      <td>Yes</td>\n",
       "      <td>Yes</td>\n",
       "      <td>Yes</td>\n",
       "      <td>$299</td>\n",
       "    </tr>\n",
       "  </tbody>\n",
       "</table>\n",
       "</div>"
      ],
      "text/plain": [
       "     Brand           Model Operating System                Connectivity  \\\n",
       "0    Apple  Watch Series 7          watchOS  Bluetooth, Wi-Fi, Cellular   \n",
       "1  Samsung  Galaxy Watch 4          Wear OS  Bluetooth, Wi-Fi, Cellular   \n",
       "2   Garmin          Venu 2        Garmin OS            Bluetooth, Wi-Fi   \n",
       "3   Fitbit         Versa 3        Fitbit OS            Bluetooth, Wi-Fi   \n",
       "4   Fossil           Gen 6          Wear OS            Bluetooth, Wi-Fi   \n",
       "\n",
       "  Display Type  Display Size (inches) Resolution Water Resistance (meters)  \\\n",
       "0       Retina                   1.90  396 x 484                        50   \n",
       "1       AMOLED                   1.40  450 x 450                        50   \n",
       "2       AMOLED                   1.30  416 x 416                        50   \n",
       "3       AMOLED                   1.58  336 x 336                        50   \n",
       "4       AMOLED                   1.28  416 x 416                        30   \n",
       "\n",
       "  Battery Life (days) Heart Rate Monitor  GPS  NFC Price (USD)  \n",
       "0                  18                Yes  Yes  Yes       $399   \n",
       "1                  40                Yes  Yes  Yes       $249   \n",
       "2                  11                Yes  Yes   No       $399   \n",
       "3                   6                Yes  Yes  Yes       $229   \n",
       "4                  24                Yes  Yes  Yes       $299   "
      ]
     },
     "execution_count": 51,
     "metadata": {},
     "output_type": "execute_result"
    }
   ],
   "source": [
    "data.head()"
   ]
  },
  {
   "cell_type": "code",
   "execution_count": 52,
   "id": "f8e08a2f",
   "metadata": {},
   "outputs": [
    {
     "data": {
      "text/plain": [
       "(379, 13)"
      ]
     },
     "execution_count": 52,
     "metadata": {},
     "output_type": "execute_result"
    }
   ],
   "source": [
    "data.shape"
   ]
  },
  {
   "cell_type": "code",
   "execution_count": 53,
   "id": "9047ddf2",
   "metadata": {},
   "outputs": [
    {
     "name": "stdout",
     "output_type": "stream",
     "text": [
      "<class 'pandas.core.frame.DataFrame'>\n",
      "RangeIndex: 379 entries, 0 to 378\n",
      "Data columns (total 13 columns):\n",
      " #   Column                     Non-Null Count  Dtype  \n",
      "---  ------                     --------------  -----  \n",
      " 0   Brand                      378 non-null    object \n",
      " 1   Model                      378 non-null    object \n",
      " 2   Operating System           376 non-null    object \n",
      " 3   Connectivity               378 non-null    object \n",
      " 4   Display Type               377 non-null    object \n",
      " 5   Display Size (inches)      376 non-null    float64\n",
      " 6   Resolution                 375 non-null    object \n",
      " 7   Water Resistance (meters)  378 non-null    object \n",
      " 8   Battery Life (days)        378 non-null    object \n",
      " 9   Heart Rate Monitor         378 non-null    object \n",
      " 10  GPS                        378 non-null    object \n",
      " 11  NFC                        378 non-null    object \n",
      " 12  Price (USD)                378 non-null    object \n",
      "dtypes: float64(1), object(12)\n",
      "memory usage: 38.6+ KB\n"
     ]
    }
   ],
   "source": [
    "data.info()"
   ]
  },
  {
   "cell_type": "markdown",
   "id": "c1ccc8fa",
   "metadata": {},
   "source": [
    "# Data Cleaning and Manipulating"
   ]
  },
  {
   "cell_type": "code",
   "execution_count": 54,
   "id": "63831ef0",
   "metadata": {
    "scrolled": true
   },
   "outputs": [
    {
     "data": {
      "text/plain": [
       "Brand                        1\n",
       "Model                        1\n",
       "Operating System             3\n",
       "Connectivity                 1\n",
       "Display Type                 2\n",
       "Display Size (inches)        3\n",
       "Resolution                   4\n",
       "Water Resistance (meters)    1\n",
       "Battery Life (days)          1\n",
       "Heart Rate Monitor           1\n",
       "GPS                          1\n",
       "NFC                          1\n",
       "Price (USD)                  1\n",
       "dtype: int64"
      ]
     },
     "execution_count": 54,
     "metadata": {},
     "output_type": "execute_result"
    }
   ],
   "source": [
    "data.isnull().sum()"
   ]
  },
  {
   "cell_type": "code",
   "execution_count": 55,
   "id": "a73a35cb",
   "metadata": {
    "scrolled": true
   },
   "outputs": [
    {
     "data": {
      "text/html": [
       "<div>\n",
       "<style scoped>\n",
       "    .dataframe tbody tr th:only-of-type {\n",
       "        vertical-align: middle;\n",
       "    }\n",
       "\n",
       "    .dataframe tbody tr th {\n",
       "        vertical-align: top;\n",
       "    }\n",
       "\n",
       "    .dataframe thead th {\n",
       "        text-align: right;\n",
       "    }\n",
       "</style>\n",
       "<table border=\"1\" class=\"dataframe\">\n",
       "  <thead>\n",
       "    <tr style=\"text-align: right;\">\n",
       "      <th></th>\n",
       "      <th>Brand</th>\n",
       "      <th>Model</th>\n",
       "      <th>Operating System</th>\n",
       "      <th>Connectivity</th>\n",
       "      <th>Display Type</th>\n",
       "      <th>Display Size (inches)</th>\n",
       "      <th>Resolution</th>\n",
       "      <th>Water Resistance (meters)</th>\n",
       "      <th>Battery Life (days)</th>\n",
       "      <th>Heart Rate Monitor</th>\n",
       "      <th>GPS</th>\n",
       "      <th>NFC</th>\n",
       "      <th>Price (USD)</th>\n",
       "    </tr>\n",
       "  </thead>\n",
       "  <tbody>\n",
       "    <tr>\n",
       "      <th>9</th>\n",
       "      <td>Skagen</td>\n",
       "      <td>Jorn Hybrid HR</td>\n",
       "      <td>NaN</td>\n",
       "      <td>Bluetooth</td>\n",
       "      <td>NaN</td>\n",
       "      <td>NaN</td>\n",
       "      <td>NaN</td>\n",
       "      <td>30</td>\n",
       "      <td>14</td>\n",
       "      <td>Yes</td>\n",
       "      <td>No</td>\n",
       "      <td>No</td>\n",
       "      <td>$195</td>\n",
       "    </tr>\n",
       "    <tr>\n",
       "      <th>11</th>\n",
       "      <td>Timex</td>\n",
       "      <td>Metropolitan R</td>\n",
       "      <td>NaN</td>\n",
       "      <td>Bluetooth</td>\n",
       "      <td>AMOLED</td>\n",
       "      <td>1.2</td>\n",
       "      <td>390 x 390</td>\n",
       "      <td>30</td>\n",
       "      <td>3</td>\n",
       "      <td>Yes</td>\n",
       "      <td>No</td>\n",
       "      <td>No</td>\n",
       "      <td>$179</td>\n",
       "    </tr>\n",
       "    <tr>\n",
       "      <th>21</th>\n",
       "      <td>Fossil</td>\n",
       "      <td>Collider</td>\n",
       "      <td>Hybrid OS</td>\n",
       "      <td>Bluetooth, Wi-Fi</td>\n",
       "      <td>Analog</td>\n",
       "      <td>NaN</td>\n",
       "      <td>NaN</td>\n",
       "      <td>30</td>\n",
       "      <td>14</td>\n",
       "      <td>Yes</td>\n",
       "      <td>No</td>\n",
       "      <td>Yes</td>\n",
       "      <td>$195</td>\n",
       "    </tr>\n",
       "    <tr>\n",
       "      <th>122</th>\n",
       "      <td>NaN</td>\n",
       "      <td>NaN</td>\n",
       "      <td>NaN</td>\n",
       "      <td>NaN</td>\n",
       "      <td>NaN</td>\n",
       "      <td>NaN</td>\n",
       "      <td>NaN</td>\n",
       "      <td>NaN</td>\n",
       "      <td>NaN</td>\n",
       "      <td>NaN</td>\n",
       "      <td>NaN</td>\n",
       "      <td>NaN</td>\n",
       "      <td>NaN</td>\n",
       "    </tr>\n",
       "    <tr>\n",
       "      <th>285</th>\n",
       "      <td>Timex</td>\n",
       "      <td>Metropolitan+</td>\n",
       "      <td>Timex OS</td>\n",
       "      <td>Bluetooth</td>\n",
       "      <td>E-Ink</td>\n",
       "      <td>1.5</td>\n",
       "      <td>NaN</td>\n",
       "      <td>50</td>\n",
       "      <td>1</td>\n",
       "      <td>Yes</td>\n",
       "      <td>No</td>\n",
       "      <td>No</td>\n",
       "      <td>$79</td>\n",
       "    </tr>\n",
       "  </tbody>\n",
       "</table>\n",
       "</div>"
      ],
      "text/plain": [
       "      Brand           Model Operating System      Connectivity Display Type  \\\n",
       "9    Skagen  Jorn Hybrid HR              NaN         Bluetooth          NaN   \n",
       "11    Timex  Metropolitan R              NaN         Bluetooth       AMOLED   \n",
       "21   Fossil        Collider        Hybrid OS  Bluetooth, Wi-Fi       Analog   \n",
       "122     NaN             NaN              NaN               NaN          NaN   \n",
       "285   Timex   Metropolitan+         Timex OS         Bluetooth        E-Ink   \n",
       "\n",
       "     Display Size (inches) Resolution Water Resistance (meters)  \\\n",
       "9                      NaN        NaN                        30   \n",
       "11                     1.2  390 x 390                        30   \n",
       "21                     NaN        NaN                        30   \n",
       "122                    NaN        NaN                       NaN   \n",
       "285                    1.5        NaN                        50   \n",
       "\n",
       "    Battery Life (days) Heart Rate Monitor  GPS  NFC Price (USD)  \n",
       "9                    14                Yes   No   No       $195   \n",
       "11                    3                Yes   No   No       $179   \n",
       "21                   14                Yes   No  Yes       $195   \n",
       "122                 NaN                NaN  NaN  NaN         NaN  \n",
       "285                   1                Yes   No   No        $79   "
      ]
     },
     "execution_count": 55,
     "metadata": {},
     "output_type": "execute_result"
    }
   ],
   "source": [
    "data[data.isnull().any(axis=1)]"
   ]
  },
  {
   "cell_type": "markdown",
   "id": "0df98829",
   "metadata": {},
   "source": [
    "#### All the null values here can't be replaced by any value so it is better to remove all null values"
   ]
  },
  {
   "cell_type": "code",
   "execution_count": 56,
   "id": "a33164e6",
   "metadata": {},
   "outputs": [],
   "source": [
    "data = data.dropna()"
   ]
  },
  {
   "cell_type": "code",
   "execution_count": 57,
   "id": "53acce40",
   "metadata": {},
   "outputs": [],
   "source": [
    "data=data.reset_index(drop=True)"
   ]
  },
  {
   "cell_type": "code",
   "execution_count": 58,
   "id": "0b59aaff",
   "metadata": {},
   "outputs": [
    {
     "data": {
      "text/html": [
       "<div>\n",
       "<style scoped>\n",
       "    .dataframe tbody tr th:only-of-type {\n",
       "        vertical-align: middle;\n",
       "    }\n",
       "\n",
       "    .dataframe tbody tr th {\n",
       "        vertical-align: top;\n",
       "    }\n",
       "\n",
       "    .dataframe thead th {\n",
       "        text-align: right;\n",
       "    }\n",
       "</style>\n",
       "<table border=\"1\" class=\"dataframe\">\n",
       "  <thead>\n",
       "    <tr style=\"text-align: right;\">\n",
       "      <th></th>\n",
       "      <th>Brand</th>\n",
       "      <th>Model</th>\n",
       "      <th>Operating System</th>\n",
       "      <th>Connectivity</th>\n",
       "      <th>Display Type</th>\n",
       "      <th>Display Size (inches)</th>\n",
       "      <th>Resolution</th>\n",
       "      <th>Water Resistance (meters)</th>\n",
       "      <th>Battery Life (days)</th>\n",
       "      <th>Heart Rate Monitor</th>\n",
       "      <th>GPS</th>\n",
       "      <th>NFC</th>\n",
       "      <th>Price (USD)</th>\n",
       "    </tr>\n",
       "  </thead>\n",
       "  <tbody>\n",
       "    <tr>\n",
       "      <th>0</th>\n",
       "      <td>Apple</td>\n",
       "      <td>Watch Series 7</td>\n",
       "      <td>watchOS</td>\n",
       "      <td>Bluetooth, Wi-Fi, Cellular</td>\n",
       "      <td>Retina</td>\n",
       "      <td>1.90</td>\n",
       "      <td>396 x 484</td>\n",
       "      <td>50</td>\n",
       "      <td>18</td>\n",
       "      <td>Yes</td>\n",
       "      <td>Yes</td>\n",
       "      <td>Yes</td>\n",
       "      <td>$399</td>\n",
       "    </tr>\n",
       "    <tr>\n",
       "      <th>1</th>\n",
       "      <td>Samsung</td>\n",
       "      <td>Galaxy Watch 4</td>\n",
       "      <td>Wear OS</td>\n",
       "      <td>Bluetooth, Wi-Fi, Cellular</td>\n",
       "      <td>AMOLED</td>\n",
       "      <td>1.40</td>\n",
       "      <td>450 x 450</td>\n",
       "      <td>50</td>\n",
       "      <td>40</td>\n",
       "      <td>Yes</td>\n",
       "      <td>Yes</td>\n",
       "      <td>Yes</td>\n",
       "      <td>$249</td>\n",
       "    </tr>\n",
       "    <tr>\n",
       "      <th>2</th>\n",
       "      <td>Garmin</td>\n",
       "      <td>Venu 2</td>\n",
       "      <td>Garmin OS</td>\n",
       "      <td>Bluetooth, Wi-Fi</td>\n",
       "      <td>AMOLED</td>\n",
       "      <td>1.30</td>\n",
       "      <td>416 x 416</td>\n",
       "      <td>50</td>\n",
       "      <td>11</td>\n",
       "      <td>Yes</td>\n",
       "      <td>Yes</td>\n",
       "      <td>No</td>\n",
       "      <td>$399</td>\n",
       "    </tr>\n",
       "    <tr>\n",
       "      <th>3</th>\n",
       "      <td>Fitbit</td>\n",
       "      <td>Versa 3</td>\n",
       "      <td>Fitbit OS</td>\n",
       "      <td>Bluetooth, Wi-Fi</td>\n",
       "      <td>AMOLED</td>\n",
       "      <td>1.58</td>\n",
       "      <td>336 x 336</td>\n",
       "      <td>50</td>\n",
       "      <td>6</td>\n",
       "      <td>Yes</td>\n",
       "      <td>Yes</td>\n",
       "      <td>Yes</td>\n",
       "      <td>$229</td>\n",
       "    </tr>\n",
       "    <tr>\n",
       "      <th>4</th>\n",
       "      <td>Fossil</td>\n",
       "      <td>Gen 6</td>\n",
       "      <td>Wear OS</td>\n",
       "      <td>Bluetooth, Wi-Fi</td>\n",
       "      <td>AMOLED</td>\n",
       "      <td>1.28</td>\n",
       "      <td>416 x 416</td>\n",
       "      <td>30</td>\n",
       "      <td>24</td>\n",
       "      <td>Yes</td>\n",
       "      <td>Yes</td>\n",
       "      <td>Yes</td>\n",
       "      <td>$299</td>\n",
       "    </tr>\n",
       "  </tbody>\n",
       "</table>\n",
       "</div>"
      ],
      "text/plain": [
       "     Brand           Model Operating System                Connectivity  \\\n",
       "0    Apple  Watch Series 7          watchOS  Bluetooth, Wi-Fi, Cellular   \n",
       "1  Samsung  Galaxy Watch 4          Wear OS  Bluetooth, Wi-Fi, Cellular   \n",
       "2   Garmin          Venu 2        Garmin OS            Bluetooth, Wi-Fi   \n",
       "3   Fitbit         Versa 3        Fitbit OS            Bluetooth, Wi-Fi   \n",
       "4   Fossil           Gen 6          Wear OS            Bluetooth, Wi-Fi   \n",
       "\n",
       "  Display Type  Display Size (inches) Resolution Water Resistance (meters)  \\\n",
       "0       Retina                   1.90  396 x 484                        50   \n",
       "1       AMOLED                   1.40  450 x 450                        50   \n",
       "2       AMOLED                   1.30  416 x 416                        50   \n",
       "3       AMOLED                   1.58  336 x 336                        50   \n",
       "4       AMOLED                   1.28  416 x 416                        30   \n",
       "\n",
       "  Battery Life (days) Heart Rate Monitor  GPS  NFC Price (USD)  \n",
       "0                  18                Yes  Yes  Yes       $399   \n",
       "1                  40                Yes  Yes  Yes       $249   \n",
       "2                  11                Yes  Yes   No       $399   \n",
       "3                   6                Yes  Yes  Yes       $229   \n",
       "4                  24                Yes  Yes  Yes       $299   "
      ]
     },
     "execution_count": 58,
     "metadata": {},
     "output_type": "execute_result"
    }
   ],
   "source": [
    "data.head()"
   ]
  },
  {
   "cell_type": "code",
   "execution_count": 59,
   "id": "652e754a",
   "metadata": {},
   "outputs": [
    {
     "data": {
      "text/plain": [
       "Brand                         42\n",
       "Model                        135\n",
       "Operating System              34\n",
       "Connectivity                   5\n",
       "Display Type                  26\n",
       "Display Size (inches)         31\n",
       "Resolution                    36\n",
       "Water Resistance (meters)      7\n",
       "Battery Life (days)           30\n",
       "Heart Rate Monitor             1\n",
       "GPS                            2\n",
       "NFC                            2\n",
       "Price (USD)                   49\n",
       "dtype: int64"
      ]
     },
     "execution_count": 59,
     "metadata": {},
     "output_type": "execute_result"
    }
   ],
   "source": [
    "data.nunique()"
   ]
  },
  {
   "cell_type": "code",
   "execution_count": 60,
   "id": "74b921e3",
   "metadata": {},
   "outputs": [
    {
     "data": {
      "text/plain": [
       "array(['Yes'], dtype=object)"
      ]
     },
     "execution_count": 60,
     "metadata": {},
     "output_type": "execute_result"
    }
   ],
   "source": [
    "data[\"Heart Rate Monitor\"].unique()"
   ]
  },
  {
   "cell_type": "code",
   "execution_count": 61,
   "id": "a6865a38",
   "metadata": {},
   "outputs": [],
   "source": [
    "data.drop(\"Heart Rate Monitor\",axis=1,inplace=True)"
   ]
  },
  {
   "cell_type": "code",
   "execution_count": 62,
   "id": "f0428c66",
   "metadata": {},
   "outputs": [
    {
     "data": {
      "text/html": [
       "<div>\n",
       "<style scoped>\n",
       "    .dataframe tbody tr th:only-of-type {\n",
       "        vertical-align: middle;\n",
       "    }\n",
       "\n",
       "    .dataframe tbody tr th {\n",
       "        vertical-align: top;\n",
       "    }\n",
       "\n",
       "    .dataframe thead th {\n",
       "        text-align: right;\n",
       "    }\n",
       "</style>\n",
       "<table border=\"1\" class=\"dataframe\">\n",
       "  <thead>\n",
       "    <tr style=\"text-align: right;\">\n",
       "      <th></th>\n",
       "      <th>Brand</th>\n",
       "      <th>Model</th>\n",
       "      <th>Operating System</th>\n",
       "      <th>Connectivity</th>\n",
       "      <th>Display Type</th>\n",
       "      <th>Display Size (inches)</th>\n",
       "      <th>Resolution</th>\n",
       "      <th>Water Resistance (meters)</th>\n",
       "      <th>Battery Life (days)</th>\n",
       "      <th>GPS</th>\n",
       "      <th>NFC</th>\n",
       "      <th>Price (USD)</th>\n",
       "    </tr>\n",
       "  </thead>\n",
       "  <tbody>\n",
       "    <tr>\n",
       "      <th>0</th>\n",
       "      <td>Apple</td>\n",
       "      <td>Watch Series 7</td>\n",
       "      <td>watchOS</td>\n",
       "      <td>Bluetooth, Wi-Fi, Cellular</td>\n",
       "      <td>Retina</td>\n",
       "      <td>1.90</td>\n",
       "      <td>396 x 484</td>\n",
       "      <td>50</td>\n",
       "      <td>18</td>\n",
       "      <td>Yes</td>\n",
       "      <td>Yes</td>\n",
       "      <td>$399</td>\n",
       "    </tr>\n",
       "    <tr>\n",
       "      <th>1</th>\n",
       "      <td>Samsung</td>\n",
       "      <td>Galaxy Watch 4</td>\n",
       "      <td>Wear OS</td>\n",
       "      <td>Bluetooth, Wi-Fi, Cellular</td>\n",
       "      <td>AMOLED</td>\n",
       "      <td>1.40</td>\n",
       "      <td>450 x 450</td>\n",
       "      <td>50</td>\n",
       "      <td>40</td>\n",
       "      <td>Yes</td>\n",
       "      <td>Yes</td>\n",
       "      <td>$249</td>\n",
       "    </tr>\n",
       "    <tr>\n",
       "      <th>2</th>\n",
       "      <td>Garmin</td>\n",
       "      <td>Venu 2</td>\n",
       "      <td>Garmin OS</td>\n",
       "      <td>Bluetooth, Wi-Fi</td>\n",
       "      <td>AMOLED</td>\n",
       "      <td>1.30</td>\n",
       "      <td>416 x 416</td>\n",
       "      <td>50</td>\n",
       "      <td>11</td>\n",
       "      <td>Yes</td>\n",
       "      <td>No</td>\n",
       "      <td>$399</td>\n",
       "    </tr>\n",
       "    <tr>\n",
       "      <th>3</th>\n",
       "      <td>Fitbit</td>\n",
       "      <td>Versa 3</td>\n",
       "      <td>Fitbit OS</td>\n",
       "      <td>Bluetooth, Wi-Fi</td>\n",
       "      <td>AMOLED</td>\n",
       "      <td>1.58</td>\n",
       "      <td>336 x 336</td>\n",
       "      <td>50</td>\n",
       "      <td>6</td>\n",
       "      <td>Yes</td>\n",
       "      <td>Yes</td>\n",
       "      <td>$229</td>\n",
       "    </tr>\n",
       "    <tr>\n",
       "      <th>4</th>\n",
       "      <td>Fossil</td>\n",
       "      <td>Gen 6</td>\n",
       "      <td>Wear OS</td>\n",
       "      <td>Bluetooth, Wi-Fi</td>\n",
       "      <td>AMOLED</td>\n",
       "      <td>1.28</td>\n",
       "      <td>416 x 416</td>\n",
       "      <td>30</td>\n",
       "      <td>24</td>\n",
       "      <td>Yes</td>\n",
       "      <td>Yes</td>\n",
       "      <td>$299</td>\n",
       "    </tr>\n",
       "  </tbody>\n",
       "</table>\n",
       "</div>"
      ],
      "text/plain": [
       "     Brand           Model Operating System                Connectivity  \\\n",
       "0    Apple  Watch Series 7          watchOS  Bluetooth, Wi-Fi, Cellular   \n",
       "1  Samsung  Galaxy Watch 4          Wear OS  Bluetooth, Wi-Fi, Cellular   \n",
       "2   Garmin          Venu 2        Garmin OS            Bluetooth, Wi-Fi   \n",
       "3   Fitbit         Versa 3        Fitbit OS            Bluetooth, Wi-Fi   \n",
       "4   Fossil           Gen 6          Wear OS            Bluetooth, Wi-Fi   \n",
       "\n",
       "  Display Type  Display Size (inches) Resolution Water Resistance (meters)  \\\n",
       "0       Retina                   1.90  396 x 484                        50   \n",
       "1       AMOLED                   1.40  450 x 450                        50   \n",
       "2       AMOLED                   1.30  416 x 416                        50   \n",
       "3       AMOLED                   1.58  336 x 336                        50   \n",
       "4       AMOLED                   1.28  416 x 416                        30   \n",
       "\n",
       "  Battery Life (days)  GPS  NFC Price (USD)  \n",
       "0                  18  Yes  Yes       $399   \n",
       "1                  40  Yes  Yes       $249   \n",
       "2                  11  Yes   No       $399   \n",
       "3                   6  Yes  Yes       $229   \n",
       "4                  24  Yes  Yes       $299   "
      ]
     },
     "execution_count": 62,
     "metadata": {},
     "output_type": "execute_result"
    }
   ],
   "source": [
    "data.head()"
   ]
  },
  {
   "cell_type": "code",
   "execution_count": 63,
   "id": "ceddb37f",
   "metadata": {},
   "outputs": [
    {
     "data": {
      "text/plain": [
       "Brand                         object\n",
       "Model                         object\n",
       "Operating System              object\n",
       "Connectivity                  object\n",
       "Display Type                  object\n",
       "Display Size (inches)        float64\n",
       "Resolution                    object\n",
       "Water Resistance (meters)     object\n",
       "Battery Life (days)           object\n",
       "GPS                           object\n",
       "NFC                           object\n",
       "Price (USD)                   object\n",
       "dtype: object"
      ]
     },
     "execution_count": 63,
     "metadata": {},
     "output_type": "execute_result"
    }
   ],
   "source": [
    "data.dtypes"
   ]
  },
  {
   "cell_type": "code",
   "execution_count": 64,
   "id": "2847d9a8",
   "metadata": {},
   "outputs": [
    {
     "data": {
      "text/plain": [
       "array(['396 x 484', '450 x 450', '416 x 416', '336 x 336', '466 x 466',\n",
       "       '360 x 360', '372 x 430', '454 x 454', '240 x 240', '394 x 324',\n",
       "       '240 x 201', '368 x 448', '390 x 390', '400 x 400', '324 x 394',\n",
       "       '320 x 320', '348 x 442', '402 x 476', '480 x 480', '176 x 176',\n",
       "       '300 x 300', '200 x 200', '280 x 280', '128 x 128', '240 x 198',\n",
       "       '280 x 456', '328 x 328', '960 x 192', '348 x 250', '320 x 300',\n",
       "       '320 x 302', '228 x 172', '160 x 160', '260 x 260', '126 x 36',\n",
       "       '326 x 326'], dtype=object)"
      ]
     },
     "execution_count": 64,
     "metadata": {},
     "output_type": "execute_result"
    }
   ],
   "source": [
    "data[\"Resolution\"].unique()"
   ]
  },
  {
   "cell_type": "code",
   "execution_count": 65,
   "id": "c83170ad",
   "metadata": {},
   "outputs": [],
   "source": [
    "data[\"Hor_pixels\"] = data[\"Resolution\"].str.split(\"x\").str.get(0).str.strip().astype(int)"
   ]
  },
  {
   "cell_type": "code",
   "execution_count": 66,
   "id": "e9742615",
   "metadata": {},
   "outputs": [],
   "source": [
    "data[\"Ver_pixels\"] = data[\"Resolution\"].str.split(\"x\").str.get(1).str.strip().astype(int)"
   ]
  },
  {
   "cell_type": "code",
   "execution_count": 67,
   "id": "d5a158a1",
   "metadata": {},
   "outputs": [],
   "source": [
    "data.drop(\"Resolution\",axis=1,inplace=True)"
   ]
  },
  {
   "cell_type": "code",
   "execution_count": 68,
   "id": "aefef204",
   "metadata": {},
   "outputs": [
    {
     "data": {
      "text/plain": [
       "array(['50', '30', '100', '1.5', 'Not specified', '200', '10'],\n",
       "      dtype=object)"
      ]
     },
     "execution_count": 68,
     "metadata": {},
     "output_type": "execute_result"
    }
   ],
   "source": [
    "data[\"Water Resistance (meters)\"].unique()"
   ]
  },
  {
   "cell_type": "code",
   "execution_count": 69,
   "id": "c1fe7edd",
   "metadata": {},
   "outputs": [
    {
     "data": {
      "text/html": [
       "<div>\n",
       "<style scoped>\n",
       "    .dataframe tbody tr th:only-of-type {\n",
       "        vertical-align: middle;\n",
       "    }\n",
       "\n",
       "    .dataframe tbody tr th {\n",
       "        vertical-align: top;\n",
       "    }\n",
       "\n",
       "    .dataframe thead th {\n",
       "        text-align: right;\n",
       "    }\n",
       "</style>\n",
       "<table border=\"1\" class=\"dataframe\">\n",
       "  <thead>\n",
       "    <tr style=\"text-align: right;\">\n",
       "      <th></th>\n",
       "      <th>Brand</th>\n",
       "      <th>Model</th>\n",
       "      <th>Operating System</th>\n",
       "      <th>Connectivity</th>\n",
       "      <th>Display Type</th>\n",
       "      <th>Display Size (inches)</th>\n",
       "      <th>Water Resistance (meters)</th>\n",
       "      <th>Battery Life (days)</th>\n",
       "      <th>GPS</th>\n",
       "      <th>NFC</th>\n",
       "      <th>Price (USD)</th>\n",
       "      <th>Hor_pixels</th>\n",
       "      <th>Ver_pixels</th>\n",
       "    </tr>\n",
       "  </thead>\n",
       "  <tbody>\n",
       "    <tr>\n",
       "      <th>182</th>\n",
       "      <td>Nubia</td>\n",
       "      <td>Alpha</td>\n",
       "      <td>Nubia OS</td>\n",
       "      <td>Bluetooth, Wi-Fi, Cellular</td>\n",
       "      <td>OLED</td>\n",
       "      <td>4.01</td>\n",
       "      <td>Not specified</td>\n",
       "      <td>48 hours</td>\n",
       "      <td>Yes</td>\n",
       "      <td>Yes</td>\n",
       "      <td>$449</td>\n",
       "      <td>960</td>\n",
       "      <td>192</td>\n",
       "    </tr>\n",
       "  </tbody>\n",
       "</table>\n",
       "</div>"
      ],
      "text/plain": [
       "     Brand  Model Operating System                Connectivity Display Type  \\\n",
       "182  Nubia  Alpha         Nubia OS  Bluetooth, Wi-Fi, Cellular         OLED   \n",
       "\n",
       "     Display Size (inches) Water Resistance (meters) Battery Life (days)  GPS  \\\n",
       "182                   4.01             Not specified            48 hours  Yes   \n",
       "\n",
       "     NFC Price (USD)  Hor_pixels  Ver_pixels  \n",
       "182  Yes       $449          960         192  "
      ]
     },
     "execution_count": 69,
     "metadata": {},
     "output_type": "execute_result"
    }
   ],
   "source": [
    "data[data[\"Water Resistance (meters)\"]==\"Not specified\"]"
   ]
  },
  {
   "cell_type": "markdown",
   "id": "1b567f49",
   "metadata": {},
   "source": [
    "#### Since it is only one raw having Water Resistance (meters) value as not specified so I am removing it."
   ]
  },
  {
   "cell_type": "code",
   "execution_count": 70,
   "id": "8dde017e",
   "metadata": {},
   "outputs": [],
   "source": [
    "data.drop(182,inplace=True)"
   ]
  },
  {
   "cell_type": "code",
   "execution_count": 71,
   "id": "17f32263",
   "metadata": {},
   "outputs": [
    {
     "data": {
      "text/plain": [
       "array(['50', '30', '100', '1.5', '200', '10'], dtype=object)"
      ]
     },
     "execution_count": 71,
     "metadata": {},
     "output_type": "execute_result"
    }
   ],
   "source": [
    "data[\"Water Resistance (meters)\"].unique()"
   ]
  },
  {
   "cell_type": "code",
   "execution_count": 72,
   "id": "25606236",
   "metadata": {},
   "outputs": [],
   "source": [
    "data[\"Water Resistance (meters)\"]=data[\"Water Resistance (meters)\"].astype(float)"
   ]
  },
  {
   "cell_type": "code",
   "execution_count": 73,
   "id": "4897033a",
   "metadata": {},
   "outputs": [
    {
     "data": {
      "text/plain": [
       "array(['18', '40', '11', '6', '24', '14', '2', '4', '12', '30', '45', '5',\n",
       "       '10', '3', '48', '7', '16', '9', '25', '72', '60', '56', '70', '1',\n",
       "       '15', 'Unlimited', '1.5', '20', '8'], dtype=object)"
      ]
     },
     "execution_count": 73,
     "metadata": {},
     "output_type": "execute_result"
    }
   ],
   "source": [
    "data[\"Battery Life (days)\"].unique()"
   ]
  },
  {
   "cell_type": "code",
   "execution_count": 74,
   "id": "c316994b",
   "metadata": {},
   "outputs": [
    {
     "data": {
      "text/html": [
       "<div>\n",
       "<style scoped>\n",
       "    .dataframe tbody tr th:only-of-type {\n",
       "        vertical-align: middle;\n",
       "    }\n",
       "\n",
       "    .dataframe tbody tr th {\n",
       "        vertical-align: top;\n",
       "    }\n",
       "\n",
       "    .dataframe thead th {\n",
       "        text-align: right;\n",
       "    }\n",
       "</style>\n",
       "<table border=\"1\" class=\"dataframe\">\n",
       "  <thead>\n",
       "    <tr style=\"text-align: right;\">\n",
       "      <th></th>\n",
       "      <th>Brand</th>\n",
       "      <th>Model</th>\n",
       "      <th>Operating System</th>\n",
       "      <th>Connectivity</th>\n",
       "      <th>Display Type</th>\n",
       "      <th>Display Size (inches)</th>\n",
       "      <th>Water Resistance (meters)</th>\n",
       "      <th>Battery Life (days)</th>\n",
       "      <th>GPS</th>\n",
       "      <th>NFC</th>\n",
       "      <th>Price (USD)</th>\n",
       "      <th>Hor_pixels</th>\n",
       "      <th>Ver_pixels</th>\n",
       "    </tr>\n",
       "  </thead>\n",
       "  <tbody>\n",
       "    <tr>\n",
       "      <th>200</th>\n",
       "      <td>Matrix</td>\n",
       "      <td>PowerWatch 2</td>\n",
       "      <td>Matrix OS</td>\n",
       "      <td>Bluetooth, Wi-Fi</td>\n",
       "      <td>LCD</td>\n",
       "      <td>1.2</td>\n",
       "      <td>200.0</td>\n",
       "      <td>Unlimited</td>\n",
       "      <td>Yes</td>\n",
       "      <td>Yes</td>\n",
       "      <td>$499</td>\n",
       "      <td>360</td>\n",
       "      <td>360</td>\n",
       "    </tr>\n",
       "    <tr>\n",
       "      <th>239</th>\n",
       "      <td>Matrix</td>\n",
       "      <td>PowerWatch 2</td>\n",
       "      <td>Matrix OS</td>\n",
       "      <td>Bluetooth, Wi-Fi</td>\n",
       "      <td>LCD</td>\n",
       "      <td>1.2</td>\n",
       "      <td>200.0</td>\n",
       "      <td>Unlimited</td>\n",
       "      <td>Yes</td>\n",
       "      <td>Yes</td>\n",
       "      <td>$499</td>\n",
       "      <td>228</td>\n",
       "      <td>172</td>\n",
       "    </tr>\n",
       "    <tr>\n",
       "      <th>349</th>\n",
       "      <td>Matrix</td>\n",
       "      <td>PowerWatch 2</td>\n",
       "      <td>Proprietary OS</td>\n",
       "      <td>Bluetooth</td>\n",
       "      <td>LCD</td>\n",
       "      <td>1.2</td>\n",
       "      <td>200.0</td>\n",
       "      <td>Unlimited</td>\n",
       "      <td>Yes</td>\n",
       "      <td>No</td>\n",
       "      <td>$499</td>\n",
       "      <td>228</td>\n",
       "      <td>172</td>\n",
       "    </tr>\n",
       "  </tbody>\n",
       "</table>\n",
       "</div>"
      ],
      "text/plain": [
       "      Brand         Model Operating System      Connectivity Display Type  \\\n",
       "200  Matrix  PowerWatch 2        Matrix OS  Bluetooth, Wi-Fi          LCD   \n",
       "239  Matrix  PowerWatch 2        Matrix OS  Bluetooth, Wi-Fi          LCD   \n",
       "349  Matrix  PowerWatch 2   Proprietary OS         Bluetooth          LCD   \n",
       "\n",
       "     Display Size (inches)  Water Resistance (meters) Battery Life (days)  \\\n",
       "200                    1.2                      200.0           Unlimited   \n",
       "239                    1.2                      200.0           Unlimited   \n",
       "349                    1.2                      200.0           Unlimited   \n",
       "\n",
       "     GPS  NFC Price (USD)  Hor_pixels  Ver_pixels  \n",
       "200  Yes  Yes       $499          360         360  \n",
       "239  Yes  Yes       $499          228         172  \n",
       "349  Yes   No       $499          228         172  "
      ]
     },
     "execution_count": 74,
     "metadata": {},
     "output_type": "execute_result"
    }
   ],
   "source": [
    "data[data[\"Battery Life (days)\"]==\"Unlimited\"]"
   ]
  },
  {
   "cell_type": "markdown",
   "id": "676714d4",
   "metadata": {},
   "source": [
    "#### Here unlimited Battery Life can't be replace by any specific number so for that I am replcing it these values by maximum of Battery Life."
   ]
  },
  {
   "cell_type": "code",
   "execution_count": 75,
   "id": "f2d083cb",
   "metadata": {},
   "outputs": [],
   "source": [
    "data[\"Battery Life (days)\"] = data[\"Battery Life (days)\"].replace(\"Unlimited\",0)"
   ]
  },
  {
   "cell_type": "code",
   "execution_count": 76,
   "id": "18303350",
   "metadata": {},
   "outputs": [],
   "source": [
    "data[\"Battery Life (days)\"]=data[\"Battery Life (days)\"].astype(float)"
   ]
  },
  {
   "cell_type": "code",
   "execution_count": 77,
   "id": "0fc4de28",
   "metadata": {},
   "outputs": [],
   "source": [
    "data[\"Battery Life (days)\"]=data[\"Battery Life (days)\"].replace(0,data[\"Battery Life (days)\"].max())"
   ]
  },
  {
   "cell_type": "code",
   "execution_count": 78,
   "id": "d2a5d3de",
   "metadata": {},
   "outputs": [
    {
     "data": {
      "text/plain": [
       "Brand                         object\n",
       "Model                         object\n",
       "Operating System              object\n",
       "Connectivity                  object\n",
       "Display Type                  object\n",
       "Display Size (inches)        float64\n",
       "Water Resistance (meters)    float64\n",
       "Battery Life (days)          float64\n",
       "GPS                           object\n",
       "NFC                           object\n",
       "Price (USD)                   object\n",
       "Hor_pixels                     int32\n",
       "Ver_pixels                     int32\n",
       "dtype: object"
      ]
     },
     "execution_count": 78,
     "metadata": {},
     "output_type": "execute_result"
    }
   ],
   "source": [
    "data.dtypes"
   ]
  },
  {
   "cell_type": "code",
   "execution_count": 79,
   "id": "99349eb6",
   "metadata": {},
   "outputs": [],
   "source": [
    "data[\"Price (USD)\"] = data[\"Price (USD)\"].str.replace(\"$\",\"\",regex=False).str.replace(\",\",\"\",regex=False).astype(int)"
   ]
  },
  {
   "cell_type": "code",
   "execution_count": 80,
   "id": "4e62870b",
   "metadata": {},
   "outputs": [
    {
     "data": {
      "text/plain": [
       "Brand                         object\n",
       "Model                         object\n",
       "Operating System              object\n",
       "Connectivity                  object\n",
       "Display Type                  object\n",
       "Display Size (inches)        float64\n",
       "Water Resistance (meters)    float64\n",
       "Battery Life (days)          float64\n",
       "GPS                           object\n",
       "NFC                           object\n",
       "Price (USD)                    int32\n",
       "Hor_pixels                     int32\n",
       "Ver_pixels                     int32\n",
       "dtype: object"
      ]
     },
     "execution_count": 80,
     "metadata": {},
     "output_type": "execute_result"
    }
   ],
   "source": [
    "data.dtypes"
   ]
  },
  {
   "cell_type": "code",
   "execution_count": 81,
   "id": "6beba786",
   "metadata": {},
   "outputs": [
    {
     "data": {
      "text/html": [
       "<div>\n",
       "<style scoped>\n",
       "    .dataframe tbody tr th:only-of-type {\n",
       "        vertical-align: middle;\n",
       "    }\n",
       "\n",
       "    .dataframe tbody tr th {\n",
       "        vertical-align: top;\n",
       "    }\n",
       "\n",
       "    .dataframe thead th {\n",
       "        text-align: right;\n",
       "    }\n",
       "</style>\n",
       "<table border=\"1\" class=\"dataframe\">\n",
       "  <thead>\n",
       "    <tr style=\"text-align: right;\">\n",
       "      <th></th>\n",
       "      <th>Brand</th>\n",
       "      <th>Model</th>\n",
       "      <th>Operating System</th>\n",
       "      <th>Connectivity</th>\n",
       "      <th>Display Type</th>\n",
       "      <th>Display Size (inches)</th>\n",
       "      <th>Water Resistance (meters)</th>\n",
       "      <th>Battery Life (days)</th>\n",
       "      <th>GPS</th>\n",
       "      <th>NFC</th>\n",
       "      <th>Price (USD)</th>\n",
       "      <th>Hor_pixels</th>\n",
       "      <th>Ver_pixels</th>\n",
       "    </tr>\n",
       "  </thead>\n",
       "  <tbody>\n",
       "    <tr>\n",
       "      <th>0</th>\n",
       "      <td>Apple</td>\n",
       "      <td>Watch Series 7</td>\n",
       "      <td>watchOS</td>\n",
       "      <td>Bluetooth, Wi-Fi, Cellular</td>\n",
       "      <td>Retina</td>\n",
       "      <td>1.90</td>\n",
       "      <td>50.0</td>\n",
       "      <td>18.0</td>\n",
       "      <td>Yes</td>\n",
       "      <td>Yes</td>\n",
       "      <td>399</td>\n",
       "      <td>396</td>\n",
       "      <td>484</td>\n",
       "    </tr>\n",
       "    <tr>\n",
       "      <th>1</th>\n",
       "      <td>Samsung</td>\n",
       "      <td>Galaxy Watch 4</td>\n",
       "      <td>Wear OS</td>\n",
       "      <td>Bluetooth, Wi-Fi, Cellular</td>\n",
       "      <td>AMOLED</td>\n",
       "      <td>1.40</td>\n",
       "      <td>50.0</td>\n",
       "      <td>40.0</td>\n",
       "      <td>Yes</td>\n",
       "      <td>Yes</td>\n",
       "      <td>249</td>\n",
       "      <td>450</td>\n",
       "      <td>450</td>\n",
       "    </tr>\n",
       "    <tr>\n",
       "      <th>2</th>\n",
       "      <td>Garmin</td>\n",
       "      <td>Venu 2</td>\n",
       "      <td>Garmin OS</td>\n",
       "      <td>Bluetooth, Wi-Fi</td>\n",
       "      <td>AMOLED</td>\n",
       "      <td>1.30</td>\n",
       "      <td>50.0</td>\n",
       "      <td>11.0</td>\n",
       "      <td>Yes</td>\n",
       "      <td>No</td>\n",
       "      <td>399</td>\n",
       "      <td>416</td>\n",
       "      <td>416</td>\n",
       "    </tr>\n",
       "    <tr>\n",
       "      <th>3</th>\n",
       "      <td>Fitbit</td>\n",
       "      <td>Versa 3</td>\n",
       "      <td>Fitbit OS</td>\n",
       "      <td>Bluetooth, Wi-Fi</td>\n",
       "      <td>AMOLED</td>\n",
       "      <td>1.58</td>\n",
       "      <td>50.0</td>\n",
       "      <td>6.0</td>\n",
       "      <td>Yes</td>\n",
       "      <td>Yes</td>\n",
       "      <td>229</td>\n",
       "      <td>336</td>\n",
       "      <td>336</td>\n",
       "    </tr>\n",
       "    <tr>\n",
       "      <th>4</th>\n",
       "      <td>Fossil</td>\n",
       "      <td>Gen 6</td>\n",
       "      <td>Wear OS</td>\n",
       "      <td>Bluetooth, Wi-Fi</td>\n",
       "      <td>AMOLED</td>\n",
       "      <td>1.28</td>\n",
       "      <td>30.0</td>\n",
       "      <td>24.0</td>\n",
       "      <td>Yes</td>\n",
       "      <td>Yes</td>\n",
       "      <td>299</td>\n",
       "      <td>416</td>\n",
       "      <td>416</td>\n",
       "    </tr>\n",
       "  </tbody>\n",
       "</table>\n",
       "</div>"
      ],
      "text/plain": [
       "     Brand           Model Operating System                Connectivity  \\\n",
       "0    Apple  Watch Series 7          watchOS  Bluetooth, Wi-Fi, Cellular   \n",
       "1  Samsung  Galaxy Watch 4          Wear OS  Bluetooth, Wi-Fi, Cellular   \n",
       "2   Garmin          Venu 2        Garmin OS            Bluetooth, Wi-Fi   \n",
       "3   Fitbit         Versa 3        Fitbit OS            Bluetooth, Wi-Fi   \n",
       "4   Fossil           Gen 6          Wear OS            Bluetooth, Wi-Fi   \n",
       "\n",
       "  Display Type  Display Size (inches)  Water Resistance (meters)  \\\n",
       "0       Retina                   1.90                       50.0   \n",
       "1       AMOLED                   1.40                       50.0   \n",
       "2       AMOLED                   1.30                       50.0   \n",
       "3       AMOLED                   1.58                       50.0   \n",
       "4       AMOLED                   1.28                       30.0   \n",
       "\n",
       "   Battery Life (days)  GPS  NFC  Price (USD)  Hor_pixels  Ver_pixels  \n",
       "0                 18.0  Yes  Yes          399         396         484  \n",
       "1                 40.0  Yes  Yes          249         450         450  \n",
       "2                 11.0  Yes   No          399         416         416  \n",
       "3                  6.0  Yes  Yes          229         336         336  \n",
       "4                 24.0  Yes  Yes          299         416         416  "
      ]
     },
     "execution_count": 81,
     "metadata": {},
     "output_type": "execute_result"
    }
   ],
   "source": [
    "data.head()"
   ]
  },
  {
   "cell_type": "code",
   "execution_count": 93,
   "id": "139c494b",
   "metadata": {},
   "outputs": [
    {
     "data": {
      "text/plain": [
       "Brand                         41\n",
       "Model                        134\n",
       "Operating System              33\n",
       "Connectivity                   5\n",
       "Display Type                  26\n",
       "Display Size (inches)         30\n",
       "Water Resistance (meters)      6\n",
       "Battery Life (days)           28\n",
       "GPS                            2\n",
       "NFC                            2\n",
       "Price (USD)                   48\n",
       "Hor_pixels                    29\n",
       "Ver_pixels                    34\n",
       "dtype: int64"
      ]
     },
     "execution_count": 93,
     "metadata": {},
     "output_type": "execute_result"
    }
   ],
   "source": [
    "data.nunique()"
   ]
  },
  {
   "cell_type": "code",
   "execution_count": 94,
   "id": "3c0ea74b",
   "metadata": {
    "scrolled": false
   },
   "outputs": [
    {
     "data": {
      "text/html": [
       "<div>\n",
       "<style scoped>\n",
       "    .dataframe tbody tr th:only-of-type {\n",
       "        vertical-align: middle;\n",
       "    }\n",
       "\n",
       "    .dataframe tbody tr th {\n",
       "        vertical-align: top;\n",
       "    }\n",
       "\n",
       "    .dataframe thead th {\n",
       "        text-align: right;\n",
       "    }\n",
       "</style>\n",
       "<table border=\"1\" class=\"dataframe\">\n",
       "  <thead>\n",
       "    <tr style=\"text-align: right;\">\n",
       "      <th></th>\n",
       "      <th>Display Size (inches)</th>\n",
       "      <th>Water Resistance (meters)</th>\n",
       "      <th>Battery Life (days)</th>\n",
       "      <th>Price (USD)</th>\n",
       "      <th>Hor_pixels</th>\n",
       "      <th>Ver_pixels</th>\n",
       "    </tr>\n",
       "  </thead>\n",
       "  <tbody>\n",
       "    <tr>\n",
       "      <th>count</th>\n",
       "      <td>373.000000</td>\n",
       "      <td>373.000000</td>\n",
       "      <td>373.000000</td>\n",
       "      <td>373.000000</td>\n",
       "      <td>373.000000</td>\n",
       "      <td>373.000000</td>\n",
       "    </tr>\n",
       "    <tr>\n",
       "      <th>mean</th>\n",
       "      <td>1.356139</td>\n",
       "      <td>53.010724</td>\n",
       "      <td>12.710456</td>\n",
       "      <td>314.201072</td>\n",
       "      <td>362.289544</td>\n",
       "      <td>366.970509</td>\n",
       "    </tr>\n",
       "    <tr>\n",
       "      <th>std</th>\n",
       "      <td>0.171283</td>\n",
       "      <td>27.076329</td>\n",
       "      <td>13.503109</td>\n",
       "      <td>202.995974</td>\n",
       "      <td>80.528108</td>\n",
       "      <td>86.121861</td>\n",
       "    </tr>\n",
       "    <tr>\n",
       "      <th>min</th>\n",
       "      <td>0.900000</td>\n",
       "      <td>1.500000</td>\n",
       "      <td>1.000000</td>\n",
       "      <td>49.000000</td>\n",
       "      <td>126.000000</td>\n",
       "      <td>36.000000</td>\n",
       "    </tr>\n",
       "    <tr>\n",
       "      <th>25%</th>\n",
       "      <td>1.200000</td>\n",
       "      <td>50.000000</td>\n",
       "      <td>3.000000</td>\n",
       "      <td>199.000000</td>\n",
       "      <td>324.000000</td>\n",
       "      <td>326.000000</td>\n",
       "    </tr>\n",
       "    <tr>\n",
       "      <th>50%</th>\n",
       "      <td>1.390000</td>\n",
       "      <td>50.000000</td>\n",
       "      <td>10.000000</td>\n",
       "      <td>279.000000</td>\n",
       "      <td>368.000000</td>\n",
       "      <td>390.000000</td>\n",
       "    </tr>\n",
       "    <tr>\n",
       "      <th>75%</th>\n",
       "      <td>1.400000</td>\n",
       "      <td>50.000000</td>\n",
       "      <td>16.000000</td>\n",
       "      <td>329.000000</td>\n",
       "      <td>454.000000</td>\n",
       "      <td>454.000000</td>\n",
       "    </tr>\n",
       "    <tr>\n",
       "      <th>max</th>\n",
       "      <td>2.100000</td>\n",
       "      <td>200.000000</td>\n",
       "      <td>72.000000</td>\n",
       "      <td>1800.000000</td>\n",
       "      <td>480.000000</td>\n",
       "      <td>484.000000</td>\n",
       "    </tr>\n",
       "  </tbody>\n",
       "</table>\n",
       "</div>"
      ],
      "text/plain": [
       "       Display Size (inches)  Water Resistance (meters)  Battery Life (days)  \\\n",
       "count             373.000000                 373.000000           373.000000   \n",
       "mean                1.356139                  53.010724            12.710456   \n",
       "std                 0.171283                  27.076329            13.503109   \n",
       "min                 0.900000                   1.500000             1.000000   \n",
       "25%                 1.200000                  50.000000             3.000000   \n",
       "50%                 1.390000                  50.000000            10.000000   \n",
       "75%                 1.400000                  50.000000            16.000000   \n",
       "max                 2.100000                 200.000000            72.000000   \n",
       "\n",
       "       Price (USD)  Hor_pixels  Ver_pixels  \n",
       "count   373.000000  373.000000  373.000000  \n",
       "mean    314.201072  362.289544  366.970509  \n",
       "std     202.995974   80.528108   86.121861  \n",
       "min      49.000000  126.000000   36.000000  \n",
       "25%     199.000000  324.000000  326.000000  \n",
       "50%     279.000000  368.000000  390.000000  \n",
       "75%     329.000000  454.000000  454.000000  \n",
       "max    1800.000000  480.000000  484.000000  "
      ]
     },
     "execution_count": 94,
     "metadata": {},
     "output_type": "execute_result"
    }
   ],
   "source": [
    "data.describe()"
   ]
  },
  {
   "cell_type": "code",
   "execution_count": 266,
   "id": "dd1440ed",
   "metadata": {
    "scrolled": true
   },
   "outputs": [
    {
     "data": {
      "image/png": "[encoded data removed]",
      "text/plain": [
       "<Figure size 500x300 with 1 Axes>"
      ]
     },
     "metadata": {},
     "output_type": "display_data"
    }
   ],
   "source": [
    "plt.figure(figsize=(5,3));\n",
    "sns.boxplot(data[\"Battery Life (days)\"],color=\"lightgreen\");"
   ]
  },
  {
   "cell_type": "code",
   "execution_count": 268,
   "id": "327903bd",
   "metadata": {
    "scrolled": true
   },
   "outputs": [
    {
     "data": {
      "image/png": "[encoded data removed]",
      "text/plain": [
       "<Figure size 500x300 with 1 Axes>"
      ]
     },
     "metadata": {},
     "output_type": "display_data"
    }
   ],
   "source": [
    "plt.figure(figsize=(5,3));\n",
    "sns.boxplot(data[\"Water Resistance (meters)\"]);"
   ]
  },
  {
   "cell_type": "code",
   "execution_count": 47,
   "id": "fa1bbfdd",
   "metadata": {},
   "outputs": [],
   "source": [
    "list = [\"Battery Life (days)\" , \"Water Resistance (meters)\"]\n",
    "for i in list:\n",
    "    upper = data[i].mean() + 3*data[i].std()\n",
    "    lower = data[i].mean() - 3*data[i].std()\n",
    "    data.loc[data[i] > upper , i] = upper\n",
    "    data.loc[data[i] < lower , i] = lower"
   ]
  },
  {
   "cell_type": "markdown",
   "id": "6bc10f6d",
   "metadata": {},
   "source": [
    "# Data Visulisation"
   ]
  },
  {
   "cell_type": "markdown",
   "id": "6d962423",
   "metadata": {},
   "source": [
    "#### Top 5 Brands by number of models"
   ]
  },
  {
   "cell_type": "code",
   "execution_count": 82,
   "id": "168bc6a7",
   "metadata": {
    "scrolled": true
   },
   "outputs": [
    {
     "data": {
      "text/html": [
       "<div>\n",
       "<style scoped>\n",
       "    .dataframe tbody tr th:only-of-type {\n",
       "        vertical-align: middle;\n",
       "    }\n",
       "\n",
       "    .dataframe tbody tr th {\n",
       "        vertical-align: top;\n",
       "    }\n",
       "\n",
       "    .dataframe thead th {\n",
       "        text-align: right;\n",
       "    }\n",
       "</style>\n",
       "<table border=\"1\" class=\"dataframe\">\n",
       "  <thead>\n",
       "    <tr style=\"text-align: right;\">\n",
       "      <th></th>\n",
       "      <th>No_of_models</th>\n",
       "    </tr>\n",
       "    <tr>\n",
       "      <th>Brand</th>\n",
       "      <th></th>\n",
       "    </tr>\n",
       "  </thead>\n",
       "  <tbody>\n",
       "    <tr>\n",
       "      <th>Garmin</th>\n",
       "      <td>34</td>\n",
       "    </tr>\n",
       "    <tr>\n",
       "      <th>Fitbit</th>\n",
       "      <td>24</td>\n",
       "    </tr>\n",
       "    <tr>\n",
       "      <th>Mobvoi</th>\n",
       "      <td>24</td>\n",
       "    </tr>\n",
       "    <tr>\n",
       "      <th>Fossil</th>\n",
       "      <td>22</td>\n",
       "    </tr>\n",
       "    <tr>\n",
       "      <th>Amazfit</th>\n",
       "      <td>20</td>\n",
       "    </tr>\n",
       "  </tbody>\n",
       "</table>\n",
       "</div>"
      ],
      "text/plain": [
       "         No_of_models\n",
       "Brand                \n",
       "Garmin             34\n",
       "Fitbit             24\n",
       "Mobvoi             24\n",
       "Fossil             22\n",
       "Amazfit            20"
      ]
     },
     "execution_count": 82,
     "metadata": {},
     "output_type": "execute_result"
    }
   ],
   "source": [
    "data.groupby(\"Brand\").agg(No_of_models=(\"Model\",\"count\")).sort_values(\"No_of_models\",ascending=False).head()"
   ]
  },
  {
   "cell_type": "markdown",
   "id": "d16c4509",
   "metadata": {},
   "source": [
    "#### Number of models having GPS and not having GPS of brand given by user"
   ]
  },
  {
   "cell_type": "code",
   "execution_count": 83,
   "id": "975c5610",
   "metadata": {
    "scrolled": false
   },
   "outputs": [
    {
     "name": "stdout",
     "output_type": "stream",
     "text": [
      "Enter Brand Name: Apple\n"
     ]
    },
    {
     "data": {
      "text/html": [
       "<div>\n",
       "<style scoped>\n",
       "    .dataframe tbody tr th:only-of-type {\n",
       "        vertical-align: middle;\n",
       "    }\n",
       "\n",
       "    .dataframe tbody tr th {\n",
       "        vertical-align: top;\n",
       "    }\n",
       "\n",
       "    .dataframe thead th {\n",
       "        text-align: right;\n",
       "    }\n",
       "</style>\n",
       "<table border=\"1\" class=\"dataframe\">\n",
       "  <thead>\n",
       "    <tr style=\"text-align: right;\">\n",
       "      <th></th>\n",
       "      <th>No_of_watches</th>\n",
       "    </tr>\n",
       "    <tr>\n",
       "      <th>GPS</th>\n",
       "      <th></th>\n",
       "    </tr>\n",
       "  </thead>\n",
       "  <tbody>\n",
       "    <tr>\n",
       "      <th>Yes</th>\n",
       "      <td>14</td>\n",
       "    </tr>\n",
       "  </tbody>\n",
       "</table>\n",
       "</div>"
      ],
      "text/plain": [
       "     No_of_watches\n",
       "GPS               \n",
       "Yes             14"
      ]
     },
     "execution_count": 83,
     "metadata": {},
     "output_type": "execute_result"
    }
   ],
   "source": [
    "a = input(\"Enter Brand Name: \")\n",
    "data.groupby([\"Brand\",\"GPS\"]).agg(No_of_watches=(\"Model\",\"count\")).loc[a]"
   ]
  },
  {
   "cell_type": "markdown",
   "id": "d0e4a169",
   "metadata": {},
   "source": [
    "#### Number of models by operating systems of brand given by user"
   ]
  },
  {
   "cell_type": "code",
   "execution_count": 84,
   "id": "e8de86c9",
   "metadata": {},
   "outputs": [
    {
     "name": "stdout",
     "output_type": "stream",
     "text": [
      "Enter Brand Name: Apple\n"
     ]
    },
    {
     "data": {
      "text/html": [
       "<div>\n",
       "<style scoped>\n",
       "    .dataframe tbody tr th:only-of-type {\n",
       "        vertical-align: middle;\n",
       "    }\n",
       "\n",
       "    .dataframe tbody tr th {\n",
       "        vertical-align: top;\n",
       "    }\n",
       "\n",
       "    .dataframe thead th {\n",
       "        text-align: right;\n",
       "    }\n",
       "</style>\n",
       "<table border=\"1\" class=\"dataframe\">\n",
       "  <thead>\n",
       "    <tr style=\"text-align: right;\">\n",
       "      <th></th>\n",
       "      <th>No_of_models</th>\n",
       "    </tr>\n",
       "    <tr>\n",
       "      <th>Operating System</th>\n",
       "      <th></th>\n",
       "    </tr>\n",
       "  </thead>\n",
       "  <tbody>\n",
       "    <tr>\n",
       "      <th>watchOS</th>\n",
       "      <td>14</td>\n",
       "    </tr>\n",
       "  </tbody>\n",
       "</table>\n",
       "</div>"
      ],
      "text/plain": [
       "                  No_of_models\n",
       "Operating System              \n",
       "watchOS                     14"
      ]
     },
     "execution_count": 84,
     "metadata": {},
     "output_type": "execute_result"
    }
   ],
   "source": [
    "a = input(\"Enter Brand Name: \")\n",
    "data.groupby([\"Brand\",\"Operating System\"]).agg(No_of_models=(\"Model\",\"count\")).loc[a]"
   ]
  },
  {
   "cell_type": "code",
   "execution_count": 85,
   "id": "474528d2",
   "metadata": {
    "scrolled": true
   },
   "outputs": [
    {
     "data": {
      "image/png": "[encoded data removed]",
      "text/plain": [
       "<Figure size 350x350 with 1 Axes>"
      ]
     },
     "metadata": {},
     "output_type": "display_data"
    }
   ],
   "source": [
    "plt.figure(figsize=(3.5,3.5))\n",
    "plt.pie(np.array(data[\"Connectivity\"].value_counts()),labels=np.array(data[\"Connectivity\"].value_counts().unique()))\n",
    "plt.legend(data[\"Connectivity\"].unique(), loc='upper right', bbox_to_anchor=(2,1),title=\"Connectivity\")\n",
    "plt.title(\"Counts of devices by its connectivity\")\n",
    "plt.show()"
   ]
  },
  {
   "cell_type": "code",
   "execution_count": 86,
   "id": "93558096",
   "metadata": {},
   "outputs": [],
   "source": [
    "Disp_3=data.groupby(\"Display Type\").agg(No_of_watches=(\"Display Type\",\"count\")).sort_values(\"No_of_watches\",ascending=False).head(3)"
   ]
  },
  {
   "cell_type": "code",
   "execution_count": 87,
   "id": "a40e0126",
   "metadata": {},
   "outputs": [
    {
     "data": {
      "image/png": "[encoded data removed]",
      "text/plain": [
       "<Figure size 640x480 with 1 Axes>"
      ]
     },
     "metadata": {},
     "output_type": "display_data"
    }
   ],
   "source": [
    "Disp_3.plot(kind=\"bar\")\n",
    "plt.title(\"Top 3 most selling Display Types \")\n",
    "plt.show()"
   ]
  },
  {
   "cell_type": "code",
   "execution_count": 88,
   "id": "ad76f13e",
   "metadata": {},
   "outputs": [
    {
     "data": {
      "image/png": "[encoded data removed]",
      "text/plain": [
       "<Figure size 350x350 with 1 Axes>"
      ]
     },
     "metadata": {},
     "output_type": "display_data"
    }
   ],
   "source": [
    "plt.figure(figsize=(3.5,3.5))\n",
    "GPS=data.groupby(\"GPS\").agg(Total_selling=(\"Price (USD)\",\"sum\"))[\"Total_selling\"]\n",
    "plt.pie(GPS,labels=GPS)\n",
    "plt.legend(data[\"GPS\"].unique(),title=\"Have GPS\",bbox_to_anchor=(1.5,1))\n",
    "plt.title(\"Sales of devices having GPS and not having GPS\")\n",
    "plt.show()"
   ]
  },
  {
   "cell_type": "code",
   "execution_count": 89,
   "id": "a79411d5",
   "metadata": {},
   "outputs": [
    {
     "data": {
      "image/png": "[encoded data removed]",
      "text/plain": [
       "<Figure size 500x300 with 1 Axes>"
      ]
     },
     "metadata": {},
     "output_type": "display_data"
    }
   ],
   "source": [
    "plt.figure(figsize=(5,3))\n",
    "plt.hist(data[\"Display Size (inches)\"],color=\"orange\")\n",
    "plt.xlabel(\"Display Size (inches)\")\n",
    "plt.ylabel(\"Frequency\")\n",
    "plt.title(\"Distribution of Display size\")\n",
    "plt.show()"
   ]
  },
  {
   "cell_type": "code",
   "execution_count": 90,
   "id": "65b4a0fa",
   "metadata": {},
   "outputs": [
    {
     "data": {
      "image/png": "[encoded data removed]",
      "text/plain": [
       "<Figure size 500x300 with 1 Axes>"
      ]
     },
     "metadata": {},
     "output_type": "display_data"
    }
   ],
   "source": [
    "plt.figure(figsize=(5,3))\n",
    "plt.hist(data[\"Battery Life (days)\"],color=\"orange\")\n",
    "plt.xlabel(\"Battery Life (days)\")\n",
    "plt.ylabel(\"Frequency\")\n",
    "plt.title(\"Distribution of Battery Life\")\n",
    "plt.show()"
   ]
  },
  {
   "cell_type": "code",
   "execution_count": 91,
   "id": "5d5baebe",
   "metadata": {},
   "outputs": [
    {
     "data": {
      "image/png": "[encoded data removed]",
      "text/plain": [
       "<Figure size 500x300 with 1 Axes>"
      ]
     },
     "metadata": {},
     "output_type": "display_data"
    }
   ],
   "source": [
    "plt.figure(figsize=(5,3))\n",
    "plt.hist(data[\"Water Resistance (meters)\"],color=\"orange\")\n",
    "plt.xlabel(\"Water Resistance (meters)\")\n",
    "plt.ylabel(\"Frequency\")\n",
    "plt.title(\"Distribution of Water Resistance\")\n",
    "plt.show()"
   ]
  },
  {
   "cell_type": "markdown",
   "id": "d263d60b",
   "metadata": {},
   "source": [
    "# Feature Engenieering"
   ]
  },
  {
   "cell_type": "code",
   "execution_count": 48,
   "id": "9237e254",
   "metadata": {},
   "outputs": [],
   "source": [
    "from sklearn.preprocessing import LabelEncoder"
   ]
  },
  {
   "cell_type": "code",
   "execution_count": 49,
   "id": "4cc0b1ca",
   "metadata": {},
   "outputs": [],
   "source": [
    "LE = LabelEncoder()"
   ]
  },
  {
   "cell_type": "code",
   "execution_count": 50,
   "id": "a15ae29c",
   "metadata": {},
   "outputs": [],
   "source": [
    "data[\"Brand\"]=LE.fit_transform(data[\"Brand\"])"
   ]
  },
  {
   "cell_type": "code",
   "execution_count": 51,
   "id": "08f15008",
   "metadata": {},
   "outputs": [],
   "source": [
    "LE1 = LabelEncoder()"
   ]
  },
  {
   "cell_type": "code",
   "execution_count": 52,
   "id": "b795161b",
   "metadata": {},
   "outputs": [],
   "source": [
    "data[\"Model\"] = LE.fit_transform(data[\"Model\"])"
   ]
  },
  {
   "cell_type": "code",
   "execution_count": 53,
   "id": "cff113d7",
   "metadata": {},
   "outputs": [],
   "source": [
    "LE2 = LabelEncoder()"
   ]
  },
  {
   "cell_type": "code",
   "execution_count": 54,
   "id": "a3b777e1",
   "metadata": {},
   "outputs": [],
   "source": [
    "data[\"Operating System\"] = LE2.fit_transform(data[\"Operating System\"])"
   ]
  },
  {
   "cell_type": "code",
   "execution_count": 55,
   "id": "00b05d3c",
   "metadata": {},
   "outputs": [],
   "source": [
    "LE3 = LabelEncoder()"
   ]
  },
  {
   "cell_type": "code",
   "execution_count": 56,
   "id": "66d1d2a3",
   "metadata": {},
   "outputs": [],
   "source": [
    "data[\"Display Type\"] = LE3.fit_transform(data[\"Display Type\"])"
   ]
  },
  {
   "cell_type": "code",
   "execution_count": 57,
   "id": "c5c91f8f",
   "metadata": {},
   "outputs": [],
   "source": [
    "Conn = pd.get_dummies(data[\"Connectivity\"]).astype(int)\n",
    "GPS = pd.get_dummies(data[\"GPS\"]).astype(int)\n",
    "NFC = pd.get_dummies(data[\"NFC\"]).astype(int)"
   ]
  },
  {
   "cell_type": "code",
   "execution_count": 58,
   "id": "93ee4f30",
   "metadata": {},
   "outputs": [],
   "source": [
    "df=pd.concat((data,Conn,GPS,NFC),axis=1)"
   ]
  },
  {
   "cell_type": "code",
   "execution_count": 59,
   "id": "ba8010a8",
   "metadata": {},
   "outputs": [],
   "source": [
    "df.drop([\"Connectivity\",\"GPS\",\"NFC\"],axis=1,inplace=True)"
   ]
  },
  {
   "cell_type": "code",
   "execution_count": 60,
   "id": "7631d5da",
   "metadata": {},
   "outputs": [
    {
     "data": {
      "text/html": [
       "<div>\n",
       "<style scoped>\n",
       "    .dataframe tbody tr th:only-of-type {\n",
       "        vertical-align: middle;\n",
       "    }\n",
       "\n",
       "    .dataframe tbody tr th {\n",
       "        vertical-align: top;\n",
       "    }\n",
       "\n",
       "    .dataframe thead th {\n",
       "        text-align: right;\n",
       "    }\n",
       "</style>\n",
       "<table border=\"1\" class=\"dataframe\">\n",
       "  <thead>\n",
       "    <tr style=\"text-align: right;\">\n",
       "      <th></th>\n",
       "      <th>Brand</th>\n",
       "      <th>Model</th>\n",
       "      <th>Operating System</th>\n",
       "      <th>Display Type</th>\n",
       "      <th>Display Size (inches)</th>\n",
       "      <th>Water Resistance (meters)</th>\n",
       "      <th>Battery Life (days)</th>\n",
       "      <th>Price (USD)</th>\n",
       "      <th>Hor_pixels</th>\n",
       "      <th>Ver_pixels</th>\n",
       "      <th>Bluetooth</th>\n",
       "      <th>Bluetooth, Wi-Fi</th>\n",
       "      <th>Bluetooth, Wi-Fi, Cellular</th>\n",
       "      <th>Bluetooth, Wi-Fi, GPS</th>\n",
       "      <th>Bluetooth, Wi-Fi, NFC</th>\n",
       "      <th>No</th>\n",
       "      <th>Yes</th>\n",
       "      <th>No</th>\n",
       "      <th>Yes</th>\n",
       "    </tr>\n",
       "  </thead>\n",
       "  <tbody>\n",
       "    <tr>\n",
       "      <th>0</th>\n",
       "      <td>1</td>\n",
       "      <td>124</td>\n",
       "      <td>32</td>\n",
       "      <td>16</td>\n",
       "      <td>1.90</td>\n",
       "      <td>50.0</td>\n",
       "      <td>18.0</td>\n",
       "      <td>399</td>\n",
       "      <td>396</td>\n",
       "      <td>484</td>\n",
       "      <td>0</td>\n",
       "      <td>0</td>\n",
       "      <td>1</td>\n",
       "      <td>0</td>\n",
       "      <td>0</td>\n",
       "      <td>0</td>\n",
       "      <td>1</td>\n",
       "      <td>0</td>\n",
       "      <td>1</td>\n",
       "    </tr>\n",
       "    <tr>\n",
       "      <th>1</th>\n",
       "      <td>29</td>\n",
       "      <td>34</td>\n",
       "      <td>29</td>\n",
       "      <td>0</td>\n",
       "      <td>1.40</td>\n",
       "      <td>50.0</td>\n",
       "      <td>40.0</td>\n",
       "      <td>249</td>\n",
       "      <td>450</td>\n",
       "      <td>450</td>\n",
       "      <td>0</td>\n",
       "      <td>0</td>\n",
       "      <td>1</td>\n",
       "      <td>0</td>\n",
       "      <td>0</td>\n",
       "      <td>0</td>\n",
       "      <td>1</td>\n",
       "      <td>0</td>\n",
       "      <td>1</td>\n",
       "    </tr>\n",
       "    <tr>\n",
       "      <th>2</th>\n",
       "      <td>8</td>\n",
       "      <td>102</td>\n",
       "      <td>9</td>\n",
       "      <td>0</td>\n",
       "      <td>1.30</td>\n",
       "      <td>50.0</td>\n",
       "      <td>11.0</td>\n",
       "      <td>399</td>\n",
       "      <td>416</td>\n",
       "      <td>416</td>\n",
       "      <td>0</td>\n",
       "      <td>1</td>\n",
       "      <td>0</td>\n",
       "      <td>0</td>\n",
       "      <td>0</td>\n",
       "      <td>0</td>\n",
       "      <td>1</td>\n",
       "      <td>1</td>\n",
       "      <td>0</td>\n",
       "    </tr>\n",
       "    <tr>\n",
       "      <th>3</th>\n",
       "      <td>6</td>\n",
       "      <td>106</td>\n",
       "      <td>7</td>\n",
       "      <td>0</td>\n",
       "      <td>1.58</td>\n",
       "      <td>50.0</td>\n",
       "      <td>6.0</td>\n",
       "      <td>229</td>\n",
       "      <td>336</td>\n",
       "      <td>336</td>\n",
       "      <td>0</td>\n",
       "      <td>1</td>\n",
       "      <td>0</td>\n",
       "      <td>0</td>\n",
       "      <td>0</td>\n",
       "      <td>0</td>\n",
       "      <td>1</td>\n",
       "      <td>0</td>\n",
       "      <td>1</td>\n",
       "    </tr>\n",
       "    <tr>\n",
       "      <th>4</th>\n",
       "      <td>7</td>\n",
       "      <td>41</td>\n",
       "      <td>29</td>\n",
       "      <td>0</td>\n",
       "      <td>1.28</td>\n",
       "      <td>30.0</td>\n",
       "      <td>24.0</td>\n",
       "      <td>299</td>\n",
       "      <td>416</td>\n",
       "      <td>416</td>\n",
       "      <td>0</td>\n",
       "      <td>1</td>\n",
       "      <td>0</td>\n",
       "      <td>0</td>\n",
       "      <td>0</td>\n",
       "      <td>0</td>\n",
       "      <td>1</td>\n",
       "      <td>0</td>\n",
       "      <td>1</td>\n",
       "    </tr>\n",
       "  </tbody>\n",
       "</table>\n",
       "</div>"
      ],
      "text/plain": [
       "   Brand  Model  Operating System  Display Type  Display Size (inches)  \\\n",
       "0      1    124                32            16                   1.90   \n",
       "1     29     34                29             0                   1.40   \n",
       "2      8    102                 9             0                   1.30   \n",
       "3      6    106                 7             0                   1.58   \n",
       "4      7     41                29             0                   1.28   \n",
       "\n",
       "   Water Resistance (meters)  Battery Life (days)  Price (USD)  Hor_pixels  \\\n",
       "0                       50.0                 18.0          399         396   \n",
       "1                       50.0                 40.0          249         450   \n",
       "2                       50.0                 11.0          399         416   \n",
       "3                       50.0                  6.0          229         336   \n",
       "4                       30.0                 24.0          299         416   \n",
       "\n",
       "   Ver_pixels  Bluetooth  Bluetooth, Wi-Fi  Bluetooth, Wi-Fi, Cellular  \\\n",
       "0         484          0                 0                           1   \n",
       "1         450          0                 0                           1   \n",
       "2         416          0                 1                           0   \n",
       "3         336          0                 1                           0   \n",
       "4         416          0                 1                           0   \n",
       "\n",
       "   Bluetooth, Wi-Fi, GPS  Bluetooth, Wi-Fi, NFC  No  Yes  No  Yes  \n",
       "0                      0                      0   0    1   0    1  \n",
       "1                      0                      0   0    1   0    1  \n",
       "2                      0                      0   0    1   1    0  \n",
       "3                      0                      0   0    1   0    1  \n",
       "4                      0                      0   0    1   0    1  "
      ]
     },
     "execution_count": 60,
     "metadata": {},
     "output_type": "execute_result"
    }
   ],
   "source": [
    "df.head()"
   ]
  },
  {
   "cell_type": "code",
   "execution_count": 61,
   "id": "10aa8476",
   "metadata": {},
   "outputs": [
    {
     "data": {
      "text/plain": [
       "<Axes: xlabel='Price (USD)', ylabel='Density'>"
      ]
     },
     "execution_count": 61,
     "metadata": {},
     "output_type": "execute_result"
    },
    {
     "data": {
      "image/png": "[encoded data removed]",
      "text/plain": [
       "<Figure size 640x480 with 1 Axes>"
      ]
     },
     "metadata": {},
     "output_type": "display_data"
    }
   ],
   "source": [
    "sns.distplot(df[\"Price (USD)\"])"
   ]
  },
  {
   "cell_type": "code",
   "execution_count": 62,
   "id": "c36d4eab",
   "metadata": {},
   "outputs": [],
   "source": [
    "x=df.drop(\"Price (USD)\", axis = 1 )\n",
    "y=df[\"Price (USD)\"]"
   ]
  },
  {
   "cell_type": "code",
   "execution_count": 63,
   "id": "9b342cd1",
   "metadata": {},
   "outputs": [],
   "source": [
    "from sklearn.model_selection import train_test_split"
   ]
  },
  {
   "cell_type": "code",
   "execution_count": 64,
   "id": "819958c9",
   "metadata": {},
   "outputs": [],
   "source": [
    "x_train,x_test,y_train,y_test=train_test_split(x,y,train_size=0.85,random_state=30)"
   ]
  },
  {
   "cell_type": "code",
   "execution_count": 65,
   "id": "15b2cee0",
   "metadata": {},
   "outputs": [],
   "source": [
    "from sklearn.preprocessing import MinMaxScaler"
   ]
  },
  {
   "cell_type": "code",
   "execution_count": 66,
   "id": "a902be42",
   "metadata": {},
   "outputs": [],
   "source": [
    "scaler=MinMaxScaler()"
   ]
  },
  {
   "cell_type": "markdown",
   "id": "ea7078ba",
   "metadata": {},
   "source": [
    "# Model Selection"
   ]
  },
  {
   "cell_type": "code",
   "execution_count": 67,
   "id": "b69940af",
   "metadata": {},
   "outputs": [],
   "source": [
    "from sklearn.linear_model import LinearRegression"
   ]
  },
  {
   "cell_type": "code",
   "execution_count": 68,
   "id": "ad926285",
   "metadata": {},
   "outputs": [],
   "source": [
    "model=LinearRegression()"
   ]
  },
  {
   "cell_type": "code",
   "execution_count": 69,
   "id": "d48768c8",
   "metadata": {},
   "outputs": [
    {
     "data": {
      "text/html": [
       "<style>#sk-container-id-1 {color: black;}#sk-container-id-1 pre{padding: 0;}#sk-container-id-1 div.sk-toggleable {background-color: white;}#sk-container-id-1 label.sk-toggleable__label {cursor: pointer;display: block;width: 100%;margin-bottom: 0;padding: 0.3em;box-sizing: border-box;text-align: center;}#sk-container-id-1 label.sk-toggleable__label-arrow:before {content: \"▸\";float: left;margin-right: 0.25em;color: #696969;}#sk-container-id-1 label.sk-toggleable__label-arrow:hover:before {color: black;}#sk-container-id-1 div.sk-estimator:hover label.sk-toggleable__label-arrow:before {color: black;}#sk-container-id-1 div.sk-toggleable__content {max-height: 0;max-width: 0;overflow: hidden;text-align: left;background-color: #f0f8ff;}#sk-container-id-1 div.sk-toggleable__content pre {margin: 0.2em;color: black;border-radius: 0.25em;background-color: #f0f8ff;}#sk-container-id-1 input.sk-toggleable__control:checked~div.sk-toggleable__content {max-height: 200px;max-width: 100%;overflow: auto;}#sk-container-id-1 input.sk-toggleable__control:checked~label.sk-toggleable__label-arrow:before {content: \"▾\";}#sk-container-id-1 div.sk-estimator input.sk-toggleable__control:checked~label.sk-toggleable__label {background-color: #d4ebff;}#sk-container-id-1 div.sk-label input.sk-toggleable__control:checked~label.sk-toggleable__label {background-color: #d4ebff;}#sk-container-id-1 input.sk-hidden--visually {border: 0;clip: rect(1px 1px 1px 1px);clip: rect(1px, 1px, 1px, 1px);height: 1px;margin: -1px;overflow: hidden;padding: 0;position: absolute;width: 1px;}#sk-container-id-1 div.sk-estimator {font-family: monospace;background-color: #f0f8ff;border: 1px dotted black;border-radius: 0.25em;box-sizing: border-box;margin-bottom: 0.5em;}#sk-container-id-1 div.sk-estimator:hover {background-color: #d4ebff;}#sk-container-id-1 div.sk-parallel-item::after {content: \"\";width: 100%;border-bottom: 1px solid gray;flex-grow: 1;}#sk-container-id-1 div.sk-label:hover label.sk-toggleable__label {background-color: #d4ebff;}#sk-container-id-1 div.sk-serial::before {content: \"\";position: absolute;border-left: 1px solid gray;box-sizing: border-box;top: 0;bottom: 0;left: 50%;z-index: 0;}#sk-container-id-1 div.sk-serial {display: flex;flex-direction: column;align-items: center;background-color: white;padding-right: 0.2em;padding-left: 0.2em;position: relative;}#sk-container-id-1 div.sk-item {position: relative;z-index: 1;}#sk-container-id-1 div.sk-parallel {display: flex;align-items: stretch;justify-content: center;background-color: white;position: relative;}#sk-container-id-1 div.sk-item::before, #sk-container-id-1 div.sk-parallel-item::before {content: \"\";position: absolute;border-left: 1px solid gray;box-sizing: border-box;top: 0;bottom: 0;left: 50%;z-index: -1;}#sk-container-id-1 div.sk-parallel-item {display: flex;flex-direction: column;z-index: 1;position: relative;background-color: white;}#sk-container-id-1 div.sk-parallel-item:first-child::after {align-self: flex-end;width: 50%;}#sk-container-id-1 div.sk-parallel-item:last-child::after {align-self: flex-start;width: 50%;}#sk-container-id-1 div.sk-parallel-item:only-child::after {width: 0;}#sk-container-id-1 div.sk-dashed-wrapped {border: 1px dashed gray;margin: 0 0.4em 0.5em 0.4em;box-sizing: border-box;padding-bottom: 0.4em;background-color: white;}#sk-container-id-1 div.sk-label label {font-family: monospace;font-weight: bold;display: inline-block;line-height: 1.2em;}#sk-container-id-1 div.sk-label-container {text-align: center;}#sk-container-id-1 div.sk-container {/* jupyter's `normalize.less` sets `[hidden] { display: none; }` but bootstrap.min.css set `[hidden] { display: none !important; }` so we also need the `!important` here to be able to override the default hidden behavior on the sphinx rendered scikit-learn.org. See: https://github.com/scikit-learn/scikit-learn/issues/21755 */display: inline-block !important;position: relative;}#sk-container-id-1 div.sk-text-repr-fallback {display: none;}</style><div id=\"sk-container-id-1\" class=\"sk-top-container\"><div class=\"sk-text-repr-fallback\"><pre>LinearRegression()</pre><b>In a Jupyter environment, please rerun this cell to show the HTML representation or trust the notebook. <br />On GitHub, the HTML representation is unable to render, please try loading this page with nbviewer.org.</b></div><div class=\"sk-container\" hidden><div class=\"sk-item\"><div class=\"sk-estimator sk-toggleable\"><input class=\"sk-toggleable__control sk-hidden--visually\" id=\"sk-estimator-id-1\" type=\"checkbox\" checked><label for=\"sk-estimator-id-1\" class=\"sk-toggleable__label sk-toggleable__label-arrow\">LinearRegression</label><div class=\"sk-toggleable__content\"><pre>LinearRegression()</pre></div></div></div></div></div>"
      ],
      "text/plain": [
       "LinearRegression()"
      ]
     },
     "execution_count": 69,
     "metadata": {},
     "output_type": "execute_result"
    }
   ],
   "source": [
    "model.fit(x_train,y_train)"
   ]
  },
  {
   "cell_type": "code",
   "execution_count": 70,
   "id": "5ffa056e",
   "metadata": {},
   "outputs": [
    {
     "data": {
      "text/plain": [
       "0.2528333241824918"
      ]
     },
     "execution_count": 70,
     "metadata": {},
     "output_type": "execute_result"
    }
   ],
   "source": [
    "model.score(x_train,y_train)"
   ]
  },
  {
   "cell_type": "code",
   "execution_count": 71,
   "id": "13f283d4",
   "metadata": {},
   "outputs": [
    {
     "data": {
      "text/plain": [
       "-0.039592689522574664"
      ]
     },
     "execution_count": 71,
     "metadata": {},
     "output_type": "execute_result"
    }
   ],
   "source": [
    "model.score(x_test,y_test)"
   ]
  },
  {
   "cell_type": "code",
   "execution_count": 72,
   "id": "f05221e5",
   "metadata": {},
   "outputs": [],
   "source": [
    "from sklearn.svm import SVR\n",
    "from sklearn.tree import DecisionTreeRegressor\n",
    "from sklearn.ensemble import RandomForestRegressor\n",
    "from sklearn.ensemble import AdaBoostRegressor"
   ]
  },
  {
   "cell_type": "code",
   "execution_count": 73,
   "id": "16c97af3",
   "metadata": {},
   "outputs": [],
   "source": [
    "list = [SVR,DecisionTreeRegressor,RandomForestRegressor,AdaBoostRegressor]"
   ]
  },
  {
   "cell_type": "code",
   "execution_count": 74,
   "id": "16e6a3b2",
   "metadata": {},
   "outputs": [
    {
     "name": "stdout",
     "output_type": "stream",
     "text": [
      "-0.013218669176280784 \t -0.0013717817974312485 \t <class 'sklearn.svm._classes.SVR'>\n",
      "0.9952816976761735 \t -1.6026100928052962 \t <class 'sklearn.tree._classes.DecisionTreeRegressor'>\n",
      "0.9397312035680688 \t 0.5835535139312196 \t <class 'sklearn.ensemble._forest.RandomForestRegressor'>\n",
      "0.8314749962476017 \t 0.6192589058273446 \t <class 'sklearn.ensemble._weight_boosting.AdaBoostRegressor'>\n"
     ]
    }
   ],
   "source": [
    "for i in list:\n",
    "    model = i()\n",
    "    model.fit(x_train,y_train)\n",
    "    print(model.score(x_train,y_train),\"\\t\",model.score(x_test,y_test),\"\\t\",i)"
   ]
  },
  {
   "cell_type": "markdown",
   "id": "8bf3fc04",
   "metadata": {},
   "source": [
    "### AdaBoostRegressor achived the highest accuracy, making it the most suitable model for our predictive task"
   ]
  },
  {
   "cell_type": "code",
   "execution_count": 172,
   "id": "2203dd11",
   "metadata": {},
   "outputs": [],
   "source": [
    "Final_model = AdaBoostRegressor(n_estimators=480,random_state=40)"
   ]
  },
  {
   "cell_type": "code",
   "execution_count": 173,
   "id": "9c0c6e7b",
   "metadata": {},
   "outputs": [
    {
     "data": {
      "text/html": [
       "<style>#sk-container-id-26 {color: black;}#sk-container-id-26 pre{padding: 0;}#sk-container-id-26 div.sk-toggleable {background-color: white;}#sk-container-id-26 label.sk-toggleable__label {cursor: pointer;display: block;width: 100%;margin-bottom: 0;padding: 0.3em;box-sizing: border-box;text-align: center;}#sk-container-id-26 label.sk-toggleable__label-arrow:before {content: \"▸\";float: left;margin-right: 0.25em;color: #696969;}#sk-container-id-26 label.sk-toggleable__label-arrow:hover:before {color: black;}#sk-container-id-26 div.sk-estimator:hover label.sk-toggleable__label-arrow:before {color: black;}#sk-container-id-26 div.sk-toggleable__content {max-height: 0;max-width: 0;overflow: hidden;text-align: left;background-color: #f0f8ff;}#sk-container-id-26 div.sk-toggleable__content pre {margin: 0.2em;color: black;border-radius: 0.25em;background-color: #f0f8ff;}#sk-container-id-26 input.sk-toggleable__control:checked~div.sk-toggleable__content {max-height: 200px;max-width: 100%;overflow: auto;}#sk-container-id-26 input.sk-toggleable__control:checked~label.sk-toggleable__label-arrow:before {content: \"▾\";}#sk-container-id-26 div.sk-estimator input.sk-toggleable__control:checked~label.sk-toggleable__label {background-color: #d4ebff;}#sk-container-id-26 div.sk-label input.sk-toggleable__control:checked~label.sk-toggleable__label {background-color: #d4ebff;}#sk-container-id-26 input.sk-hidden--visually {border: 0;clip: rect(1px 1px 1px 1px);clip: rect(1px, 1px, 1px, 1px);height: 1px;margin: -1px;overflow: hidden;padding: 0;position: absolute;width: 1px;}#sk-container-id-26 div.sk-estimator {font-family: monospace;background-color: #f0f8ff;border: 1px dotted black;border-radius: 0.25em;box-sizing: border-box;margin-bottom: 0.5em;}#sk-container-id-26 div.sk-estimator:hover {background-color: #d4ebff;}#sk-container-id-26 div.sk-parallel-item::after {content: \"\";width: 100%;border-bottom: 1px solid gray;flex-grow: 1;}#sk-container-id-26 div.sk-label:hover label.sk-toggleable__label {background-color: #d4ebff;}#sk-container-id-26 div.sk-serial::before {content: \"\";position: absolute;border-left: 1px solid gray;box-sizing: border-box;top: 0;bottom: 0;left: 50%;z-index: 0;}#sk-container-id-26 div.sk-serial {display: flex;flex-direction: column;align-items: center;background-color: white;padding-right: 0.2em;padding-left: 0.2em;position: relative;}#sk-container-id-26 div.sk-item {position: relative;z-index: 1;}#sk-container-id-26 div.sk-parallel {display: flex;align-items: stretch;justify-content: center;background-color: white;position: relative;}#sk-container-id-26 div.sk-item::before, #sk-container-id-26 div.sk-parallel-item::before {content: \"\";position: absolute;border-left: 1px solid gray;box-sizing: border-box;top: 0;bottom: 0;left: 50%;z-index: -1;}#sk-container-id-26 div.sk-parallel-item {display: flex;flex-direction: column;z-index: 1;position: relative;background-color: white;}#sk-container-id-26 div.sk-parallel-item:first-child::after {align-self: flex-end;width: 50%;}#sk-container-id-26 div.sk-parallel-item:last-child::after {align-self: flex-start;width: 50%;}#sk-container-id-26 div.sk-parallel-item:only-child::after {width: 0;}#sk-container-id-26 div.sk-dashed-wrapped {border: 1px dashed gray;margin: 0 0.4em 0.5em 0.4em;box-sizing: border-box;padding-bottom: 0.4em;background-color: white;}#sk-container-id-26 div.sk-label label {font-family: monospace;font-weight: bold;display: inline-block;line-height: 1.2em;}#sk-container-id-26 div.sk-label-container {text-align: center;}#sk-container-id-26 div.sk-container {/* jupyter's `normalize.less` sets `[hidden] { display: none; }` but bootstrap.min.css set `[hidden] { display: none !important; }` so we also need the `!important` here to be able to override the default hidden behavior on the sphinx rendered scikit-learn.org. See: https://github.com/scikit-learn/scikit-learn/issues/21755 */display: inline-block !important;position: relative;}#sk-container-id-26 div.sk-text-repr-fallback {display: none;}</style><div id=\"sk-container-id-26\" class=\"sk-top-container\"><div class=\"sk-text-repr-fallback\"><pre>AdaBoostRegressor(n_estimators=480, random_state=40)</pre><b>In a Jupyter environment, please rerun this cell to show the HTML representation or trust the notebook. <br />On GitHub, the HTML representation is unable to render, please try loading this page with nbviewer.org.</b></div><div class=\"sk-container\" hidden><div class=\"sk-item\"><div class=\"sk-estimator sk-toggleable\"><input class=\"sk-toggleable__control sk-hidden--visually\" id=\"sk-estimator-id-26\" type=\"checkbox\" checked><label for=\"sk-estimator-id-26\" class=\"sk-toggleable__label sk-toggleable__label-arrow\">AdaBoostRegressor</label><div class=\"sk-toggleable__content\"><pre>AdaBoostRegressor(n_estimators=480, random_state=40)</pre></div></div></div></div></div>"
      ],
      "text/plain": [
       "AdaBoostRegressor(n_estimators=480, random_state=40)"
      ]
     },
     "execution_count": 173,
     "metadata": {},
     "output_type": "execute_result"
    }
   ],
   "source": [
    "Final_model.fit(x_train,y_train)"
   ]
  },
  {
   "cell_type": "code",
   "execution_count": 174,
   "id": "c9f0ae79",
   "metadata": {},
   "outputs": [
    {
     "data": {
      "text/plain": [
       "0.840156702967544"
      ]
     },
     "execution_count": 174,
     "metadata": {},
     "output_type": "execute_result"
    }
   ],
   "source": [
    "Final_model.score(x_train,y_train)"
   ]
  },
  {
   "cell_type": "code",
   "execution_count": 175,
   "id": "11da889a",
   "metadata": {},
   "outputs": [
    {
     "data": {
      "text/plain": [
       "0.7016342453260521"
      ]
     },
     "execution_count": 175,
     "metadata": {},
     "output_type": "execute_result"
    }
   ],
   "source": [
    "Final_model.score(x_test,y_test)"
   ]
  },
  {
   "cell_type": "code",
   "execution_count": 178,
   "id": "036037a6",
   "metadata": {},
   "outputs": [],
   "source": [
    "y_pred = Final_model.predict(x_test)"
   ]
  },
  {
   "cell_type": "markdown",
   "id": "032ec792",
   "metadata": {},
   "source": [
    "# Model Evaluation"
   ]
  },
  {
   "cell_type": "code",
   "execution_count": 176,
   "id": "5cc64171",
   "metadata": {},
   "outputs": [],
   "source": [
    "from sklearn.metrics import mean_absolute_error,mean_squared_error,r2_score"
   ]
  },
  {
   "cell_type": "code",
   "execution_count": 182,
   "id": "29edfce6",
   "metadata": {},
   "outputs": [
    {
     "data": {
      "text/plain": [
       "76.79363294082354"
      ]
     },
     "execution_count": 182,
     "metadata": {},
     "output_type": "execute_result"
    }
   ],
   "source": [
    "mean_absolute_error(y_test,y_pred)"
   ]
  },
  {
   "cell_type": "code",
   "execution_count": 185,
   "id": "1395b989",
   "metadata": {},
   "outputs": [
    {
     "data": {
      "text/plain": [
       "91.57752161014425"
      ]
     },
     "execution_count": 185,
     "metadata": {},
     "output_type": "execute_result"
    }
   ],
   "source": [
    "np.sqrt(mean_squared_error(y_test,y_pred))"
   ]
  },
  {
   "cell_type": "code",
   "execution_count": 184,
   "id": "6787e24f",
   "metadata": {
    "scrolled": true
   },
   "outputs": [
    {
     "data": {
      "text/plain": [
       "0.7016342453260521"
      ]
     },
     "execution_count": 184,
     "metadata": {},
     "output_type": "execute_result"
    }
   ],
   "source": [
    "r2_score(y_test,y_pred)"
   ]
  },
  {
   "cell_type": "markdown",
   "id": "71f6dfeb",
   "metadata": {},
   "source": [
    "### Since R2 Score is in the range 50 to 80 it is valuable so this machine learning model is acceptable."
   ]
  }
 ],
 "metadata": {
  "kernelspec": {
   "display_name": "Python 3 (ipykernel)",
   "language": "python",
   "name": "python3"
  },
  "language_info": {
   "codemirror_mode": {
    "name": "ipython",
    "version": 3
   },
   "file_extension": ".py",
   "mimetype": "text/x-python",
   "name": "python",
   "nbconvert_exporter": "python",
   "pygments_lexer": "ipython3",
   "version": "3.11.5"
  }
 },
 "nbformat": 4,
 "nbformat_minor": 5
}
